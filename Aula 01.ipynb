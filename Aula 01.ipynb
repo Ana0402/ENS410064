{
 "cells": [
  {
   "cell_type": "markdown",
   "id": "7611e965-5136-4298-9cd1-b33dce55f856",
   "metadata": {},
   "source": [
    "# Aula 03/04/2024 - Comandos básicos no Python\n",
    "\n",
    "Nesta aula aprenderemos a importar pacotes e os tipos de variáreis \\\n",
    "Desenvolvedor"
   ]
  },
  {
   "cell_type": "markdown",
   "id": "3f19e26d-c699-4283-8fac-6874b95f3158",
   "metadata": {},
   "source": [
    "## Tipos de variáveis"
   ]
  },
  {
   "cell_type": "code",
   "execution_count": 3,
   "id": "27c64d8e-80af-4c21-a72b-68a487869d4d",
   "metadata": {},
   "outputs": [
    {
     "name": "stdout",
     "output_type": "stream",
     "text": [
      "1\n"
     ]
    }
   ],
   "source": [
    "# Criando variáveis inteiras \n",
    "a = 1\n",
    "print (a)"
   ]
  },
  {
   "cell_type": "code",
   "execution_count": 4,
   "id": "890a1f70-b224-4548-8786-ca2e3ba577fb",
   "metadata": {},
   "outputs": [
    {
     "name": "stdout",
     "output_type": "stream",
     "text": [
      "a = 1\n"
     ]
    }
   ],
   "source": [
    "print ('a = '+str(a))"
   ]
  },
  {
   "cell_type": "code",
   "execution_count": 5,
   "id": "e7bfbdb8-087a-4fb4-a828-bbd76b038fc8",
   "metadata": {},
   "outputs": [],
   "source": [
    "# em ''a=1'' informamos que o valor de a é igual a 1, \n",
    "# em ''print (a)'' pedimos para mostrar o valor de a,\n",
    "# em ''print ('a = '+str(a)'' "
   ]
  },
  {
   "cell_type": "code",
   "execution_count": 6,
   "id": "87ca93b2-9376-4c2e-87db-3c6c15e50ae2",
   "metadata": {},
   "outputs": [
    {
     "name": "stdout",
     "output_type": "stream",
     "text": [
      "a=1\n",
      "<class 'int'>\n"
     ]
    }
   ],
   "source": [
    "print ('a='+str (a))\n",
    "print (type(a))"
   ]
  },
  {
   "cell_type": "code",
   "execution_count": 8,
   "id": "cfeae451-9111-45fb-9a3c-4a27ca598c5c",
   "metadata": {},
   "outputs": [
    {
     "name": "stdout",
     "output_type": "stream",
     "text": [
      "a = 1.0\n",
      "<class 'float'>\n"
     ]
    }
   ],
   "source": [
    "a = 1.0\n",
    "print ('a = '+str(a))\n",
    "print (type(a))"
   ]
  },
  {
   "cell_type": "code",
   "execution_count": 12,
   "id": "deb7fa39-99de-47ce-bf82-e1ca0ac12dd3",
   "metadata": {},
   "outputs": [
    {
     "name": "stdout",
     "output_type": "stream",
     "text": [
      "Salve o\n",
      "<class 'str'>\n"
     ]
    }
   ],
   "source": [
    "# Criando variáveis string\n",
    "b='Salve o'\n",
    "print (b)\n",
    "print (type(b))"
   ]
  },
  {
   "cell_type": "code",
   "execution_count": 14,
   "id": "16e9630a-0065-4186-be9b-266558e51d05",
   "metadata": {},
   "outputs": [
    {
     "name": "stdout",
     "output_type": "stream",
     "text": [
      "Salve o lalala\n",
      "<class 'str'>\n"
     ]
    }
   ],
   "source": [
    "# Criando variáveis string\n",
    "b='Salve o '\n",
    "c = 'lalala'\n",
    "print (b+c)\n",
    "print (type(b))"
   ]
  },
  {
   "cell_type": "code",
   "execution_count": 15,
   "id": "4ee437f4-f0de-4c2f-a8f3-7363b33512ea",
   "metadata": {},
   "outputs": [
    {
     "name": "stdout",
     "output_type": "stream",
     "text": [
      "666.666\n",
      "<class 'float'>\n"
     ]
    }
   ],
   "source": [
    "# Criando variáveis float/double precision\n",
    "d = 666.666\n",
    "print (d)\n",
    "print (type (d))"
   ]
  },
  {
   "cell_type": "code",
   "execution_count": null,
   "id": "3d5366e0-e8da-4d22-a3a5-eade688a2312",
   "metadata": {},
   "outputs": [],
   "source": []
  }
 ],
 "metadata": {
  "kernelspec": {
   "display_name": "Python 3 (ipykernel)",
   "language": "python",
   "name": "python3"
  },
  "language_info": {
   "codemirror_mode": {
    "name": "ipython",
    "version": 3
   },
   "file_extension": ".py",
   "mimetype": "text/x-python",
   "name": "python",
   "nbconvert_exporter": "python",
   "pygments_lexer": "ipython3",
   "version": "3.11.8"
  }
 },
 "nbformat": 4,
 "nbformat_minor": 5
}
